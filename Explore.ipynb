{
 "cells": [
  {
   "cell_type": "markdown",
   "id": "66cdef71",
   "metadata": {},
   "source": [
    "The purpose of this File is to learn Data analysis with GFG modules."
   ]
  },
  {
   "cell_type": "code",
   "execution_count": 2,
   "id": "bc0242be",
   "metadata": {},
   "outputs": [
    {
     "name": "stdout",
     "output_type": "stream",
     "text": [
      "Cloning into 'datasets'...\n",
      "remote: Enumerating objects: 328, done.\u001b[K\n",
      "remote: Counting objects: 100% (93/93), done.\u001b[K\n",
      "remote: Compressing objects: 100% (83/83), done.\u001b[K\n",
      "remote: Total 328 (delta 19), reused 54 (delta 9), pack-reused 235 (from 1)\u001b[K\n",
      "Receiving objects: 100% (328/328), 278.62 MiB | 13.15 MiB/s, done.\n",
      "Resolving deltas: 100% (145/145), done.\n",
      "Updating files: 100% (225/225), done.\n"
     ]
    }
   ],
   "source": [
    "!git clone https://github.com/AshishJangra27/datasets.git"
   ]
  },
  {
   "cell_type": "code",
   "execution_count": 1,
   "id": "91ede784",
   "metadata": {},
   "outputs": [],
   "source": [
    "import pandas as pd\n",
    "import numpy as np\n",
    "import seaborn as sns"
   ]
  },
  {
   "cell_type": "code",
   "execution_count": 3,
   "id": "5f3b9a4f",
   "metadata": {},
   "outputs": [],
   "source": [
    "df = pd.read_csv(r'/Users/nitindhami/Desktop/@Projects/Python/EDA/datasets/Job Postings/jobs.csv.zip')"
   ]
  },
  {
   "cell_type": "code",
   "execution_count": 4,
   "id": "c5799345",
   "metadata": {},
   "outputs": [
    {
     "data": {
      "text/html": [
       "<div>\n",
       "<style scoped>\n",
       "    .dataframe tbody tr th:only-of-type {\n",
       "        vertical-align: middle;\n",
       "    }\n",
       "\n",
       "    .dataframe tbody tr th {\n",
       "        vertical-align: top;\n",
       "    }\n",
       "\n",
       "    .dataframe thead th {\n",
       "        text-align: right;\n",
       "    }\n",
       "</style>\n",
       "<table border=\"1\" class=\"dataframe\">\n",
       "  <thead>\n",
       "    <tr style=\"text-align: right;\">\n",
       "      <th></th>\n",
       "      <th>job_id</th>\n",
       "      <th>job_role</th>\n",
       "      <th>company</th>\n",
       "      <th>experience</th>\n",
       "      <th>salary</th>\n",
       "      <th>location</th>\n",
       "      <th>rating</th>\n",
       "      <th>reviews</th>\n",
       "      <th>resposibilities</th>\n",
       "      <th>posted_on</th>\n",
       "      <th>job_link</th>\n",
       "      <th>company_link</th>\n",
       "    </tr>\n",
       "  </thead>\n",
       "  <tbody>\n",
       "    <tr>\n",
       "      <th>0</th>\n",
       "      <td>7.012301e+10</td>\n",
       "      <td>Branch Banking - Calling For Women Candidates</td>\n",
       "      <td>Hdfc Bank</td>\n",
       "      <td>1-6 Yrs</td>\n",
       "      <td>Not disclosed</td>\n",
       "      <td>Kolkata, Hyderabad/Secunderabad, Pune, Ahmedab...</td>\n",
       "      <td>4.0</td>\n",
       "      <td>39110 Reviews</td>\n",
       "      <td>Customer Service,Sales,Relationship Management</td>\n",
       "      <td>1 Day Ago</td>\n",
       "      <td>https://www.naukri.com/job-listings-branch-ban...</td>\n",
       "      <td>https://www.naukri.com/hdfc-bank-jobs-careers-213</td>\n",
       "    </tr>\n",
       "    <tr>\n",
       "      <th>1</th>\n",
       "      <td>6.012391e+10</td>\n",
       "      <td>Product Owner Senior Manager</td>\n",
       "      <td>Accenture</td>\n",
       "      <td>11-15 Yrs</td>\n",
       "      <td>Not disclosed</td>\n",
       "      <td>Kolkata, Mumbai, Hyderabad/Secunderabad, Pune,...</td>\n",
       "      <td>4.1</td>\n",
       "      <td>32129 Reviews</td>\n",
       "      <td>Product management,Market analysis,Change mana...</td>\n",
       "      <td>1 Day Ago</td>\n",
       "      <td>https://www.naukri.com/job-listings-product-ow...</td>\n",
       "      <td>https://www.naukri.com/accenture-jobs-careers-...</td>\n",
       "    </tr>\n",
       "    <tr>\n",
       "      <th>2</th>\n",
       "      <td>6.012391e+10</td>\n",
       "      <td>Employee Relations and Policies Associate Manager</td>\n",
       "      <td>Accenture</td>\n",
       "      <td>3-7 Yrs</td>\n",
       "      <td>Not disclosed</td>\n",
       "      <td>Kolkata, Mumbai, Hyderabad/Secunderabad, Pune,...</td>\n",
       "      <td>4.1</td>\n",
       "      <td>32129 Reviews</td>\n",
       "      <td>Business process,Change management,Team manage...</td>\n",
       "      <td>1 Day Ago</td>\n",
       "      <td>https://www.naukri.com/job-listings-employee-r...</td>\n",
       "      <td>https://www.naukri.com/accenture-jobs-careers-...</td>\n",
       "    </tr>\n",
       "    <tr>\n",
       "      <th>3</th>\n",
       "      <td>6.012391e+10</td>\n",
       "      <td>Employee Relations and Policies Specialist</td>\n",
       "      <td>Accenture</td>\n",
       "      <td>3-7 Yrs</td>\n",
       "      <td>Not disclosed</td>\n",
       "      <td>Kolkata, Mumbai, Hyderabad/Secunderabad, Pune,...</td>\n",
       "      <td>4.1</td>\n",
       "      <td>32129 Reviews</td>\n",
       "      <td>Business process,Change management,Team manage...</td>\n",
       "      <td>1 Day Ago</td>\n",
       "      <td>https://www.naukri.com/job-listings-employee-r...</td>\n",
       "      <td>https://www.naukri.com/accenture-jobs-careers-...</td>\n",
       "    </tr>\n",
       "    <tr>\n",
       "      <th>4</th>\n",
       "      <td>6.012301e+10</td>\n",
       "      <td>SAP BO Consultant</td>\n",
       "      <td>Mindtree</td>\n",
       "      <td>5-7 Yrs</td>\n",
       "      <td>Not disclosed</td>\n",
       "      <td>Hybrid - Kolkata, Hyderabad/Secunderabad, Pune...</td>\n",
       "      <td>4.1</td>\n",
       "      <td>3759 Reviews</td>\n",
       "      <td>SAP BO,PL / SQL,Oracle SQL,SAP Business Object...</td>\n",
       "      <td>1 Day Ago</td>\n",
       "      <td>https://www.naukri.com/job-listings-sap-bo-con...</td>\n",
       "      <td>https://www.naukri.com/mindtree-jobs-careers-3...</td>\n",
       "    </tr>\n",
       "  </tbody>\n",
       "</table>\n",
       "</div>"
      ],
      "text/plain": [
       "         job_id                                           job_role    company  \\\n",
       "0  7.012301e+10      Branch Banking - Calling For Women Candidates  Hdfc Bank   \n",
       "1  6.012391e+10                       Product Owner Senior Manager  Accenture   \n",
       "2  6.012391e+10  Employee Relations and Policies Associate Manager  Accenture   \n",
       "3  6.012391e+10         Employee Relations and Policies Specialist  Accenture   \n",
       "4  6.012301e+10                                  SAP BO Consultant   Mindtree   \n",
       "\n",
       "  experience         salary  \\\n",
       "0    1-6 Yrs  Not disclosed   \n",
       "1  11-15 Yrs  Not disclosed   \n",
       "2    3-7 Yrs  Not disclosed   \n",
       "3    3-7 Yrs  Not disclosed   \n",
       "4    5-7 Yrs  Not disclosed   \n",
       "\n",
       "                                            location  rating        reviews  \\\n",
       "0  Kolkata, Hyderabad/Secunderabad, Pune, Ahmedab...     4.0  39110 Reviews   \n",
       "1  Kolkata, Mumbai, Hyderabad/Secunderabad, Pune,...     4.1  32129 Reviews   \n",
       "2  Kolkata, Mumbai, Hyderabad/Secunderabad, Pune,...     4.1  32129 Reviews   \n",
       "3  Kolkata, Mumbai, Hyderabad/Secunderabad, Pune,...     4.1  32129 Reviews   \n",
       "4  Hybrid - Kolkata, Hyderabad/Secunderabad, Pune...     4.1   3759 Reviews   \n",
       "\n",
       "                                     resposibilities  posted_on  \\\n",
       "0     Customer Service,Sales,Relationship Management  1 Day Ago   \n",
       "1  Product management,Market analysis,Change mana...  1 Day Ago   \n",
       "2  Business process,Change management,Team manage...  1 Day Ago   \n",
       "3  Business process,Change management,Team manage...  1 Day Ago   \n",
       "4  SAP BO,PL / SQL,Oracle SQL,SAP Business Object...  1 Day Ago   \n",
       "\n",
       "                                            job_link  \\\n",
       "0  https://www.naukri.com/job-listings-branch-ban...   \n",
       "1  https://www.naukri.com/job-listings-product-ow...   \n",
       "2  https://www.naukri.com/job-listings-employee-r...   \n",
       "3  https://www.naukri.com/job-listings-employee-r...   \n",
       "4  https://www.naukri.com/job-listings-sap-bo-con...   \n",
       "\n",
       "                                        company_link  \n",
       "0  https://www.naukri.com/hdfc-bank-jobs-careers-213  \n",
       "1  https://www.naukri.com/accenture-jobs-careers-...  \n",
       "2  https://www.naukri.com/accenture-jobs-careers-...  \n",
       "3  https://www.naukri.com/accenture-jobs-careers-...  \n",
       "4  https://www.naukri.com/mindtree-jobs-careers-3...  "
      ]
     },
     "execution_count": 4,
     "metadata": {},
     "output_type": "execute_result"
    }
   ],
   "source": [
    "df.head()"
   ]
  },
  {
   "cell_type": "code",
   "execution_count": 5,
   "id": "7981b04f",
   "metadata": {},
   "outputs": [
    {
     "name": "stdout",
     "output_type": "stream",
     "text": [
      "<class 'pandas.core.frame.DataFrame'>\n",
      "RangeIndex: 79147 entries, 0 to 79146\n",
      "Data columns (total 12 columns):\n",
      " #   Column           Non-Null Count  Dtype  \n",
      "---  ------           --------------  -----  \n",
      " 0   job_id           78667 non-null  float64\n",
      " 1   job_role         78667 non-null  object \n",
      " 2   company          78666 non-null  object \n",
      " 3   experience       77398 non-null  object \n",
      " 4   salary           78667 non-null  object \n",
      " 5   location         77441 non-null  object \n",
      " 6   rating           42948 non-null  float64\n",
      " 7   reviews          42948 non-null  object \n",
      " 8   resposibilities  78647 non-null  object \n",
      " 9   posted_on        78667 non-null  object \n",
      " 10  job_link         78667 non-null  object \n",
      " 11  company_link     78667 non-null  object \n",
      "dtypes: float64(2), object(10)\n",
      "memory usage: 7.2+ MB\n"
     ]
    }
   ],
   "source": [
    "df.info()"
   ]
  },
  {
   "cell_type": "code",
   "execution_count": 6,
   "id": "711c4ad3",
   "metadata": {},
   "outputs": [
    {
     "data": {
      "text/html": [
       "<div>\n",
       "<style scoped>\n",
       "    .dataframe tbody tr th:only-of-type {\n",
       "        vertical-align: middle;\n",
       "    }\n",
       "\n",
       "    .dataframe tbody tr th {\n",
       "        vertical-align: top;\n",
       "    }\n",
       "\n",
       "    .dataframe thead th {\n",
       "        text-align: right;\n",
       "    }\n",
       "</style>\n",
       "<table border=\"1\" class=\"dataframe\">\n",
       "  <thead>\n",
       "    <tr style=\"text-align: right;\">\n",
       "      <th></th>\n",
       "      <th>job_id</th>\n",
       "      <th>rating</th>\n",
       "    </tr>\n",
       "  </thead>\n",
       "  <tbody>\n",
       "    <tr>\n",
       "      <th>count</th>\n",
       "      <td>7.866700e+04</td>\n",
       "      <td>42948.000000</td>\n",
       "    </tr>\n",
       "    <tr>\n",
       "      <th>mean</th>\n",
       "      <td>1.255071e+11</td>\n",
       "      <td>3.940144</td>\n",
       "    </tr>\n",
       "    <tr>\n",
       "      <th>std</th>\n",
       "      <td>1.097464e+11</td>\n",
       "      <td>0.519211</td>\n",
       "    </tr>\n",
       "    <tr>\n",
       "      <th>min</th>\n",
       "      <td>1.012200e+10</td>\n",
       "      <td>1.000000</td>\n",
       "    </tr>\n",
       "    <tr>\n",
       "      <th>25%</th>\n",
       "      <td>4.012350e+10</td>\n",
       "      <td>3.700000</td>\n",
       "    </tr>\n",
       "    <tr>\n",
       "      <th>50%</th>\n",
       "      <td>6.012350e+10</td>\n",
       "      <td>4.000000</td>\n",
       "    </tr>\n",
       "    <tr>\n",
       "      <th>75%</th>\n",
       "      <td>2.610226e+11</td>\n",
       "      <td>4.200000</td>\n",
       "    </tr>\n",
       "    <tr>\n",
       "      <th>max</th>\n",
       "      <td>3.112229e+11</td>\n",
       "      <td>5.000000</td>\n",
       "    </tr>\n",
       "  </tbody>\n",
       "</table>\n",
       "</div>"
      ],
      "text/plain": [
       "             job_id        rating\n",
       "count  7.866700e+04  42948.000000\n",
       "mean   1.255071e+11      3.940144\n",
       "std    1.097464e+11      0.519211\n",
       "min    1.012200e+10      1.000000\n",
       "25%    4.012350e+10      3.700000\n",
       "50%    6.012350e+10      4.000000\n",
       "75%    2.610226e+11      4.200000\n",
       "max    3.112229e+11      5.000000"
      ]
     },
     "execution_count": 6,
     "metadata": {},
     "output_type": "execute_result"
    }
   ],
   "source": [
    "df.describe()"
   ]
  },
  {
   "cell_type": "code",
   "execution_count": 7,
   "id": "cd13e7f4",
   "metadata": {},
   "outputs": [
    {
     "data": {
      "text/plain": [
       "job_id               480\n",
       "job_role             480\n",
       "company              481\n",
       "experience          1749\n",
       "salary               480\n",
       "location            1706\n",
       "rating             36199\n",
       "reviews            36199\n",
       "resposibilities      500\n",
       "posted_on            480\n",
       "job_link             480\n",
       "company_link         480\n",
       "dtype: int64"
      ]
     },
     "execution_count": 7,
     "metadata": {},
     "output_type": "execute_result"
    }
   ],
   "source": [
    "df.isnull().sum()"
   ]
  },
  {
   "cell_type": "code",
   "execution_count": 8,
   "id": "1e2471e6",
   "metadata": {},
   "outputs": [
    {
     "data": {
      "text/plain": [
       "5801"
      ]
     },
     "execution_count": 8,
     "metadata": {},
     "output_type": "execute_result"
    }
   ],
   "source": [
    "df.duplicated().sum()"
   ]
  },
  {
   "cell_type": "code",
   "execution_count": null,
   "id": "994ddb51",
   "metadata": {},
   "outputs": [],
   "source": []
  }
 ],
 "metadata": {
  "kernelspec": {
   "display_name": "base",
   "language": "python",
   "name": "python3"
  },
  "language_info": {
   "codemirror_mode": {
    "name": "ipython",
    "version": 3
   },
   "file_extension": ".py",
   "mimetype": "text/x-python",
   "name": "python",
   "nbconvert_exporter": "python",
   "pygments_lexer": "ipython3",
   "version": "3.12.4"
  }
 },
 "nbformat": 4,
 "nbformat_minor": 5
}
